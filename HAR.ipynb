{
  "cells": [
    {
      "cell_type": "markdown",
      "metadata": {
        "id": "view-in-github"
      },
      "source": [
        "<a href=\"https://colab.research.google.com/github/AvaneSauhard/HumanActivityRecognition/blob/main/HAR.ipynb\" target=\"_parent\"><img src=\"https://colab.research.google.com/assets/colab-badge.svg\" alt=\"Open In Colab\"/></a>"
      ]
    },
    {
      "cell_type": "code",
      "execution_count": null,
      "metadata": {
        "id": "MBL_Fb8Hd4n2"
      },
      "outputs": [],
      "source": [
        "#importing libraries\n",
        "from google.colab import drive\n",
        "import numpy as np\n",
        "import pandas as pd\n",
        "import tensorflow as tf\n",
        "import seaborn as sns\n",
        "import matplotlib.pyplot as plt\n",
        "import keras\n",
        "from tensorflow.keras.utils import to_categorical\n",
        "from sklearn.utils import resample\n",
        "import itertools\n",
        "from sklearn.metrics import classification_report, confusion_matrix\n",
        "from keras.layers import Input "
      ]
    },
    {
      "cell_type": "code",
      "execution_count": null,
      "metadata": {
        "colab": {
          "base_uri": "https://localhost:8080/"
        },
        "id": "ptA-9Mu9efNu",
        "outputId": "7ebe4425-9c18-4063-e199-3734cf86a481"
      },
      "outputs": [
        {
          "output_type": "stream",
          "name": "stdout",
          "text": [
            "Drive already mounted at /content/drive/; to attempt to forcibly remount, call drive.mount(\"/content/drive/\", force_remount=True).\n"
          ]
        }
      ],
      "source": [
        "from google.colab import drive\n",
        "drive.mount('/content/drive/')"
      ]
    },
    {
      "cell_type": "code",
      "execution_count": null,
      "metadata": {
        "id": "oVx-JJCvgWCU"
      },
      "outputs": [],
      "source": [
        "def load_file(filepath):\n",
        "  data=pd.read_csv(filepath,header=None,delim_whitespace=True)\n",
        "  return data.values"
      ]
    },
    {
      "cell_type": "code",
      "execution_count": null,
      "metadata": {
        "id": "mUGTnpuJglt_"
      },
      "outputs": [],
      "source": [
        "def load_group(filenames,filepaths):\n",
        "  load=list()\n",
        "  for name in filenames:\n",
        "    data=load_file(filepaths+name)\n",
        "    load.append(data)\n",
        "  load=np.dstack(load)\n",
        "  return load\n"
      ]
    },
    {
      "cell_type": "code",
      "execution_count": null,
      "metadata": {
        "id": "7cBwDs8Mjad8"
      },
      "outputs": [],
      "source": [
        "filepath_train=\"drive/MyDrive/UCI HAR Dataset/train/Inertial Signals/\"\n",
        "filename_train=list()\n",
        "filename_train+=['total_acc_x_train.txt','total_acc_y_train.txt','total_acc_z_train.txt']\n",
        "filename_train+=['body_acc_x_train.txt','body_acc_y_train.txt','body_acc_z_train.txt']\n",
        "filename_train+=['body_gyro_x_train.txt','body_gyro_y_train.txt','body_gyro_z_train.txt']\n",
        "train_X=load_group(filename_train,filepath_train)\n",
        "train_Y=load_file(\"drive/MyDrive/UCI HAR Dataset/train/y_train.txt\")"
      ]
    },
    {
      "cell_type": "code",
      "execution_count": null,
      "metadata": {
        "colab": {
          "base_uri": "https://localhost:8080/"
        },
        "id": "q89769Qjn1ua",
        "outputId": "957a364d-f821-4ee8-d9a0-8a463033308e"
      },
      "outputs": [
        {
          "output_type": "stream",
          "name": "stdout",
          "text": [
            "(7352, 128, 9) (7352, 1)\n"
          ]
        }
      ],
      "source": [
        "print(train_X.shape,train_Y.shape)"
      ]
    },
    {
      "cell_type": "code",
      "execution_count": null,
      "metadata": {
        "id": "QY0mVOu3oVbJ"
      },
      "outputs": [],
      "source": [
        "filepath_test=\"drive/MyDrive/UCI HAR Dataset/test/Inertial Signals/\"\n",
        "filename_test=list()\n",
        "filename_test+=['total_acc_x_test.txt','total_acc_y_test.txt','total_acc_z_test.txt']\n",
        "filename_test+=['body_acc_x_test.txt','body_acc_y_test.txt','body_acc_z_test.txt']\n",
        "filename_test+=['body_gyro_x_test.txt','body_gyro_y_test.txt','body_gyro_z_test.txt']\n",
        "test_X=load_group(filename_test,filepath_test)\n",
        "test_Y=load_file(\"drive/MyDrive/UCI HAR Dataset/test/y_test.txt\")"
      ]
    },
    {
      "cell_type": "code",
      "execution_count": null,
      "metadata": {
        "colab": {
          "base_uri": "https://localhost:8080/"
        },
        "id": "A5xmvirgpVjf",
        "outputId": "e36081b0-3f56-40b4-9e74-91f77d8267eb"
      },
      "outputs": [
        {
          "output_type": "stream",
          "name": "stdout",
          "text": [
            "(2947, 128, 9) (2947, 1)\n"
          ]
        }
      ],
      "source": [
        "print(test_X.shape,test_Y.shape)"
      ]
    },
    {
      "cell_type": "code",
      "execution_count": null,
      "metadata": {
        "id": "BMpoMeYwp-OI"
      },
      "outputs": [],
      "source": [
        "train_Y=train_Y-1\n",
        "test_Y=test_Y-1"
      ]
    },
    {
      "cell_type": "code",
      "execution_count": null,
      "metadata": {
        "id": "ngjYnal0qYeJ"
      },
      "outputs": [],
      "source": [
        "train_Y=to_categorical(train_Y)\n",
        "test_Y=to_categorical(test_Y)"
      ]
    },
    {
      "cell_type": "code",
      "execution_count": null,
      "metadata": {
        "colab": {
          "base_uri": "https://localhost:8080/"
        },
        "id": "9CovyJ3yqNnT",
        "outputId": "320d12d1-ad5a-41c1-99fd-1d4418676fa9"
      },
      "outputs": [
        {
          "output_type": "stream",
          "name": "stdout",
          "text": [
            "(7352, 128, 9) (7352, 6) (2947, 128, 9) (2947, 6)\n"
          ]
        }
      ],
      "source": [
        "print(train_X.shape,train_Y.shape,test_X.shape,test_Y.shape)"
      ]
    },
    {
      "cell_type": "code",
      "execution_count": null,
      "metadata": {
        "id": "GlvCugkIqp7O"
      },
      "outputs": [],
      "source": [
        "from keras.layers import Dropout\n",
        "from keras.layers import Flatten\n",
        "from keras.layers.convolutional import Conv1D\n",
        "from keras.layers.convolutional import MaxPooling1D\n",
        "from keras.layers import Dense\n",
        "from keras.models import Model\n",
        "from keras.models import Sequential\n",
        "\n",
        "def build_model():\n",
        "\tverbose, epochs, batch_size = 0, 15, 32\n",
        "\tn_timesteps, n_features, n_outputs = train_X.shape[1], train_X.shape[2], train_Y.shape[1]\n",
        "\tmodel = Sequential()\n",
        "\tmodel.add(Conv1D(filters=64, kernel_size=5, activation='relu', input_shape=(n_timesteps,n_features)))\n",
        "\tmodel.add(Conv1D(filters=64, kernel_size=9, activation='relu'))\n",
        "\tmodel.add(Dropout(0.5))\n",
        "\tmodel.add(MaxPooling1D(pool_size=2))\n",
        "\tmodel.add(Flatten())\n",
        "\tmodel.add(Dense(100, activation='relu'))\n",
        "\tmodel.add(Dense(n_outputs, activation='softmax'))\n",
        "\tmodel.compile(loss='categorical_crossentropy', optimizer='adam', metrics=['accuracy'])\n",
        "\tmodel.summary()\n",
        "\tmodel.fit(train_X, train_Y, epochs=12, batch_size=32)\n",
        "\taccuracy = model.evaluate(test_X, test_Y, batch_size=32)\n",
        "\treturn accuracy\n",
        "  "
      ]
    },
    {
      "cell_type": "code",
      "execution_count": null,
      "metadata": {
        "colab": {
          "base_uri": "https://localhost:8080/"
        },
        "id": "W3wlVaIpvTPz",
        "outputId": "f72822f5-4fdb-42c6-e8ec-3f6177af92f1"
      },
      "outputs": [
        {
          "output_type": "stream",
          "name": "stdout",
          "text": [
            "Model: \"sequential_1\"\n",
            "_________________________________________________________________\n",
            " Layer (type)                Output Shape              Param #   \n",
            "=================================================================\n",
            " conv1d_2 (Conv1D)           (None, 124, 64)           2944      \n",
            "                                                                 \n",
            " conv1d_3 (Conv1D)           (None, 116, 64)           36928     \n",
            "                                                                 \n",
            " dropout_1 (Dropout)         (None, 116, 64)           0         \n",
            "                                                                 \n",
            " max_pooling1d_1 (MaxPooling  (None, 58, 64)           0         \n",
            " 1D)                                                             \n",
            "                                                                 \n",
            " flatten_1 (Flatten)         (None, 3712)              0         \n",
            "                                                                 \n",
            " dense_2 (Dense)             (None, 100)               371300    \n",
            "                                                                 \n",
            " dense_3 (Dense)             (None, 6)                 606       \n",
            "                                                                 \n",
            "=================================================================\n",
            "Total params: 411,778\n",
            "Trainable params: 411,778\n",
            "Non-trainable params: 0\n",
            "_________________________________________________________________\n",
            "Epoch 1/12\n",
            "230/230 [==============================] - 9s 38ms/step - loss: 0.3244 - accuracy: 0.8689\n",
            "Epoch 2/12\n",
            "230/230 [==============================] - 9s 37ms/step - loss: 0.1277 - accuracy: 0.9455\n",
            "Epoch 3/12\n",
            "230/230 [==============================] - 9s 38ms/step - loss: 0.1128 - accuracy: 0.9540\n",
            "Epoch 4/12\n",
            "230/230 [==============================] - 9s 37ms/step - loss: 0.1047 - accuracy: 0.9553\n",
            "Epoch 5/12\n",
            "230/230 [==============================] - 9s 38ms/step - loss: 0.1105 - accuracy: 0.9497\n",
            "Epoch 6/12\n",
            "230/230 [==============================] - 9s 38ms/step - loss: 0.1139 - accuracy: 0.9523\n",
            "Epoch 7/12\n",
            "230/230 [==============================] - 9s 38ms/step - loss: 0.0986 - accuracy: 0.9551\n",
            "Epoch 8/12\n",
            "230/230 [==============================] - 9s 38ms/step - loss: 0.0863 - accuracy: 0.9596\n",
            "Epoch 9/12\n",
            "230/230 [==============================] - 10s 44ms/step - loss: 0.0856 - accuracy: 0.9603\n",
            "Epoch 10/12\n",
            "230/230 [==============================] - 9s 38ms/step - loss: 0.0823 - accuracy: 0.9603\n",
            "Epoch 11/12\n",
            "230/230 [==============================] - 13s 58ms/step - loss: 0.0753 - accuracy: 0.9612\n",
            "Epoch 12/12\n",
            "230/230 [==============================] - 10s 45ms/step - loss: 0.1046 - accuracy: 0.9582\n",
            "93/93 [==============================] - 1s 11ms/step - loss: 0.2762 - accuracy: 0.9138\n"
          ]
        }
      ],
      "source": [
        "model = build_model()"
      ]
    }
  ],
  "metadata": {
    "colab": {
      "collapsed_sections": [],
      "name": "HAR.ipynb",
      "provenance": []
    },
    "kernelspec": {
      "display_name": "Python 3",
      "name": "python3"
    },
    "language_info": {
      "name": "python"
    }
  },
  "nbformat": 4,
  "nbformat_minor": 0
}